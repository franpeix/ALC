{
  "cells": [
    {
      "cell_type": "code",
      "execution_count": null,
      "id": "d4df1434-bbba-4d0e-9c0b-971ffb48a829",
      "metadata": {
        "id": "d4df1434-bbba-4d0e-9c0b-971ffb48a829"
      },
      "outputs": [],
      "source": [
        "import numpy as np\n",
        "import matplotlib.pyplot as plt"
      ]
    },
    {
      "cell_type": "markdown",
      "id": "609f0c01-3eb4-4079-b75c-843f2414e81d",
      "metadata": {
        "id": "609f0c01-3eb4-4079-b75c-843f2414e81d"
      },
      "source": [
        "### 1. **Introducción a los Mínimos Cuadrados**\n",
        "\n",
        "### 2. **Ajuste de Modelos Cuadráticos a Datos Experimentales**\n",
        "\n",
        "#### Problema 1\n",
        "\n",
        "Una pelota es arrojada hacia arriba. Una cámara de fotos toma fotos cada 0.1 segundos y a partir de esas fotos se calcula la altura de la pelota en cada instante.\n",
        "En el archivo `altura_pelota.csv` se encuentran las mediciones obtenidas.\n",
        "\n",
        "Sabiendo que la altura de la pelota depende del tiempo en forma cuadrática\n",
        "$h(t) = c_0 + c_1 t + c_2 t^2,$ estimar los valores de $c_0, c_1, c_2$ ajustando los datos por mínimos cuadrados.\n",
        "\n",
        "Resolvemos el problema mediante las ecuaciones normales\n",
        "$\n",
        "A^tA c = A^ty\n",
        "$\n",
        "para una matriz $A$ apropiada.\n"
      ]
    },
    {
      "cell_type": "code",
      "execution_count": null,
      "id": "61a4f2cf-bd93-49cd-b53a-ef2115e1d0d2",
      "metadata": {
        "colab": {
          "base_uri": "https://localhost:8080/",
          "height": 143
        },
        "id": "61a4f2cf-bd93-49cd-b53a-ef2115e1d0d2",
        "outputId": "0744bb18-35c8-4f23-a3af-ed1ccc86e2ae"
      },
      "outputs": [
        {
          "output_type": "execute_result",
          "data": {
            "text/plain": [
              "   tiempo     altura\n",
              "0     0.0  13.335240\n",
              "1     0.1  15.936852\n",
              "2     0.2  23.846084"
            ],
            "text/html": [
              "\n",
              "  <div id=\"df-6f1699d1-2a5d-4f0e-a4bb-4c09cd37cb5b\" class=\"colab-df-container\">\n",
              "    <div>\n",
              "<style scoped>\n",
              "    .dataframe tbody tr th:only-of-type {\n",
              "        vertical-align: middle;\n",
              "    }\n",
              "\n",
              "    .dataframe tbody tr th {\n",
              "        vertical-align: top;\n",
              "    }\n",
              "\n",
              "    .dataframe thead th {\n",
              "        text-align: right;\n",
              "    }\n",
              "</style>\n",
              "<table border=\"1\" class=\"dataframe\">\n",
              "  <thead>\n",
              "    <tr style=\"text-align: right;\">\n",
              "      <th></th>\n",
              "      <th>tiempo</th>\n",
              "      <th>altura</th>\n",
              "    </tr>\n",
              "  </thead>\n",
              "  <tbody>\n",
              "    <tr>\n",
              "      <th>0</th>\n",
              "      <td>0.0</td>\n",
              "      <td>13.335240</td>\n",
              "    </tr>\n",
              "    <tr>\n",
              "      <th>1</th>\n",
              "      <td>0.1</td>\n",
              "      <td>15.936852</td>\n",
              "    </tr>\n",
              "    <tr>\n",
              "      <th>2</th>\n",
              "      <td>0.2</td>\n",
              "      <td>23.846084</td>\n",
              "    </tr>\n",
              "  </tbody>\n",
              "</table>\n",
              "</div>\n",
              "    <div class=\"colab-df-buttons\">\n",
              "\n",
              "  <div class=\"colab-df-container\">\n",
              "    <button class=\"colab-df-convert\" onclick=\"convertToInteractive('df-6f1699d1-2a5d-4f0e-a4bb-4c09cd37cb5b')\"\n",
              "            title=\"Convert this dataframe to an interactive table.\"\n",
              "            style=\"display:none;\">\n",
              "\n",
              "  <svg xmlns=\"http://www.w3.org/2000/svg\" height=\"24px\" viewBox=\"0 -960 960 960\">\n",
              "    <path d=\"M120-120v-720h720v720H120Zm60-500h600v-160H180v160Zm220 220h160v-160H400v160Zm0 220h160v-160H400v160ZM180-400h160v-160H180v160Zm440 0h160v-160H620v160ZM180-180h160v-160H180v160Zm440 0h160v-160H620v160Z\"/>\n",
              "  </svg>\n",
              "    </button>\n",
              "\n",
              "  <style>\n",
              "    .colab-df-container {\n",
              "      display:flex;\n",
              "      gap: 12px;\n",
              "    }\n",
              "\n",
              "    .colab-df-convert {\n",
              "      background-color: #E8F0FE;\n",
              "      border: none;\n",
              "      border-radius: 50%;\n",
              "      cursor: pointer;\n",
              "      display: none;\n",
              "      fill: #1967D2;\n",
              "      height: 32px;\n",
              "      padding: 0 0 0 0;\n",
              "      width: 32px;\n",
              "    }\n",
              "\n",
              "    .colab-df-convert:hover {\n",
              "      background-color: #E2EBFA;\n",
              "      box-shadow: 0px 1px 2px rgba(60, 64, 67, 0.3), 0px 1px 3px 1px rgba(60, 64, 67, 0.15);\n",
              "      fill: #174EA6;\n",
              "    }\n",
              "\n",
              "    .colab-df-buttons div {\n",
              "      margin-bottom: 4px;\n",
              "    }\n",
              "\n",
              "    [theme=dark] .colab-df-convert {\n",
              "      background-color: #3B4455;\n",
              "      fill: #D2E3FC;\n",
              "    }\n",
              "\n",
              "    [theme=dark] .colab-df-convert:hover {\n",
              "      background-color: #434B5C;\n",
              "      box-shadow: 0px 1px 3px 1px rgba(0, 0, 0, 0.15);\n",
              "      filter: drop-shadow(0px 1px 2px rgba(0, 0, 0, 0.3));\n",
              "      fill: #FFFFFF;\n",
              "    }\n",
              "  </style>\n",
              "\n",
              "    <script>\n",
              "      const buttonEl =\n",
              "        document.querySelector('#df-6f1699d1-2a5d-4f0e-a4bb-4c09cd37cb5b button.colab-df-convert');\n",
              "      buttonEl.style.display =\n",
              "        google.colab.kernel.accessAllowed ? 'block' : 'none';\n",
              "\n",
              "      async function convertToInteractive(key) {\n",
              "        const element = document.querySelector('#df-6f1699d1-2a5d-4f0e-a4bb-4c09cd37cb5b');\n",
              "        const dataTable =\n",
              "          await google.colab.kernel.invokeFunction('convertToInteractive',\n",
              "                                                    [key], {});\n",
              "        if (!dataTable) return;\n",
              "\n",
              "        const docLinkHtml = 'Like what you see? Visit the ' +\n",
              "          '<a target=\"_blank\" href=https://colab.research.google.com/notebooks/data_table.ipynb>data table notebook</a>'\n",
              "          + ' to learn more about interactive tables.';\n",
              "        element.innerHTML = '';\n",
              "        dataTable['output_type'] = 'display_data';\n",
              "        await google.colab.output.renderOutput(dataTable, element);\n",
              "        const docLink = document.createElement('div');\n",
              "        docLink.innerHTML = docLinkHtml;\n",
              "        element.appendChild(docLink);\n",
              "      }\n",
              "    </script>\n",
              "  </div>\n",
              "\n",
              "\n",
              "    <div id=\"df-5c5736d2-6b45-4ddf-bfa8-a3de661f6cd2\">\n",
              "      <button class=\"colab-df-quickchart\" onclick=\"quickchart('df-5c5736d2-6b45-4ddf-bfa8-a3de661f6cd2')\"\n",
              "                title=\"Suggest charts\"\n",
              "                style=\"display:none;\">\n",
              "\n",
              "<svg xmlns=\"http://www.w3.org/2000/svg\" height=\"24px\"viewBox=\"0 0 24 24\"\n",
              "     width=\"24px\">\n",
              "    <g>\n",
              "        <path d=\"M19 3H5c-1.1 0-2 .9-2 2v14c0 1.1.9 2 2 2h14c1.1 0 2-.9 2-2V5c0-1.1-.9-2-2-2zM9 17H7v-7h2v7zm4 0h-2V7h2v10zm4 0h-2v-4h2v4z\"/>\n",
              "    </g>\n",
              "</svg>\n",
              "      </button>\n",
              "\n",
              "<style>\n",
              "  .colab-df-quickchart {\n",
              "      --bg-color: #E8F0FE;\n",
              "      --fill-color: #1967D2;\n",
              "      --hover-bg-color: #E2EBFA;\n",
              "      --hover-fill-color: #174EA6;\n",
              "      --disabled-fill-color: #AAA;\n",
              "      --disabled-bg-color: #DDD;\n",
              "  }\n",
              "\n",
              "  [theme=dark] .colab-df-quickchart {\n",
              "      --bg-color: #3B4455;\n",
              "      --fill-color: #D2E3FC;\n",
              "      --hover-bg-color: #434B5C;\n",
              "      --hover-fill-color: #FFFFFF;\n",
              "      --disabled-bg-color: #3B4455;\n",
              "      --disabled-fill-color: #666;\n",
              "  }\n",
              "\n",
              "  .colab-df-quickchart {\n",
              "    background-color: var(--bg-color);\n",
              "    border: none;\n",
              "    border-radius: 50%;\n",
              "    cursor: pointer;\n",
              "    display: none;\n",
              "    fill: var(--fill-color);\n",
              "    height: 32px;\n",
              "    padding: 0;\n",
              "    width: 32px;\n",
              "  }\n",
              "\n",
              "  .colab-df-quickchart:hover {\n",
              "    background-color: var(--hover-bg-color);\n",
              "    box-shadow: 0 1px 2px rgba(60, 64, 67, 0.3), 0 1px 3px 1px rgba(60, 64, 67, 0.15);\n",
              "    fill: var(--button-hover-fill-color);\n",
              "  }\n",
              "\n",
              "  .colab-df-quickchart-complete:disabled,\n",
              "  .colab-df-quickchart-complete:disabled:hover {\n",
              "    background-color: var(--disabled-bg-color);\n",
              "    fill: var(--disabled-fill-color);\n",
              "    box-shadow: none;\n",
              "  }\n",
              "\n",
              "  .colab-df-spinner {\n",
              "    border: 2px solid var(--fill-color);\n",
              "    border-color: transparent;\n",
              "    border-bottom-color: var(--fill-color);\n",
              "    animation:\n",
              "      spin 1s steps(1) infinite;\n",
              "  }\n",
              "\n",
              "  @keyframes spin {\n",
              "    0% {\n",
              "      border-color: transparent;\n",
              "      border-bottom-color: var(--fill-color);\n",
              "      border-left-color: var(--fill-color);\n",
              "    }\n",
              "    20% {\n",
              "      border-color: transparent;\n",
              "      border-left-color: var(--fill-color);\n",
              "      border-top-color: var(--fill-color);\n",
              "    }\n",
              "    30% {\n",
              "      border-color: transparent;\n",
              "      border-left-color: var(--fill-color);\n",
              "      border-top-color: var(--fill-color);\n",
              "      border-right-color: var(--fill-color);\n",
              "    }\n",
              "    40% {\n",
              "      border-color: transparent;\n",
              "      border-right-color: var(--fill-color);\n",
              "      border-top-color: var(--fill-color);\n",
              "    }\n",
              "    60% {\n",
              "      border-color: transparent;\n",
              "      border-right-color: var(--fill-color);\n",
              "    }\n",
              "    80% {\n",
              "      border-color: transparent;\n",
              "      border-right-color: var(--fill-color);\n",
              "      border-bottom-color: var(--fill-color);\n",
              "    }\n",
              "    90% {\n",
              "      border-color: transparent;\n",
              "      border-bottom-color: var(--fill-color);\n",
              "    }\n",
              "  }\n",
              "</style>\n",
              "\n",
              "      <script>\n",
              "        async function quickchart(key) {\n",
              "          const quickchartButtonEl =\n",
              "            document.querySelector('#' + key + ' button');\n",
              "          quickchartButtonEl.disabled = true;  // To prevent multiple clicks.\n",
              "          quickchartButtonEl.classList.add('colab-df-spinner');\n",
              "          try {\n",
              "            const charts = await google.colab.kernel.invokeFunction(\n",
              "                'suggestCharts', [key], {});\n",
              "          } catch (error) {\n",
              "            console.error('Error during call to suggestCharts:', error);\n",
              "          }\n",
              "          quickchartButtonEl.classList.remove('colab-df-spinner');\n",
              "          quickchartButtonEl.classList.add('colab-df-quickchart-complete');\n",
              "        }\n",
              "        (() => {\n",
              "          let quickchartButtonEl =\n",
              "            document.querySelector('#df-5c5736d2-6b45-4ddf-bfa8-a3de661f6cd2 button');\n",
              "          quickchartButtonEl.style.display =\n",
              "            google.colab.kernel.accessAllowed ? 'block' : 'none';\n",
              "        })();\n",
              "      </script>\n",
              "    </div>\n",
              "\n",
              "    </div>\n",
              "  </div>\n"
            ],
            "application/vnd.google.colaboratory.intrinsic+json": {
              "type": "dataframe",
              "variable_name": "datos",
              "summary": "{\n  \"name\": \"datos\",\n  \"rows\": 101,\n  \"fields\": [\n    {\n      \"column\": \"tiempo\",\n      \"properties\": {\n        \"dtype\": \"number\",\n        \"std\": 2.9300170647967225,\n        \"min\": 0.0,\n        \"max\": 10.0,\n        \"num_unique_values\": 101,\n        \"samples\": [\n          8.4,\n          5.5,\n          6.6\n        ],\n        \"semantic_type\": \"\",\n        \"description\": \"\"\n      }\n    },\n    {\n      \"column\": \"altura\",\n      \"properties\": {\n        \"dtype\": \"number\",\n        \"std\": 51.887098551535445,\n        \"min\": 13.3352403,\n        \"max\": 210.987683,\n        \"num_unique_values\": 101,\n        \"samples\": [\n          173.677641,\n          199.294423,\n          200.549875\n        ],\n        \"semantic_type\": \"\",\n        \"description\": \"\"\n      }\n    }\n  ]\n}"
            }
          },
          "metadata": {},
          "execution_count": 21
        }
      ],
      "source": [
        "import pandas as pd\n",
        "# Los datos están en español!\n",
        "datos = pd.read_csv(\"altura_pelota.csv\", sep=\";\", decimal=\",\")   # dataFrame\n",
        "datos.head(3)"
      ]
    },
    {
      "cell_type": "code",
      "execution_count": null,
      "id": "1124795f-60a3-403d-a78a-d1676c0e46c8",
      "metadata": {
        "colab": {
          "base_uri": "https://localhost:8080/"
        },
        "id": "1124795f-60a3-403d-a78a-d1676c0e46c8",
        "outputId": "aba93815-3e5b-4960-fc3a-08645052d0e3"
      },
      "outputs": [
        {
          "output_type": "stream",
          "name": "stdout",
          "text": [
            "(101, 2)\n"
          ]
        }
      ],
      "source": [
        "# Convertimos los datos a np.array\n",
        "datosNP = datos.to_numpy()\n",
        "print(datosNP.shape)"
      ]
    },
    {
      "cell_type": "code",
      "execution_count": null,
      "id": "b8e7e44d-f2d3-4212-883f-8c2b454acba4",
      "metadata": {
        "colab": {
          "base_uri": "https://localhost:8080/",
          "height": 447
        },
        "id": "b8e7e44d-f2d3-4212-883f-8c2b454acba4",
        "outputId": "43d9cf33-b96e-4b22-e061-d3c687f617ed"
      },
      "outputs": [
        {
          "output_type": "execute_result",
          "data": {
            "text/plain": [
              "<matplotlib.collections.PathCollection at 0x7adb29f807d0>"
            ]
          },
          "metadata": {},
          "execution_count": 33
        },
        {
          "output_type": "display_data",
          "data": {
            "text/plain": [
              "<Figure size 640x480 with 1 Axes>"
            ],
            "image/png": "[encoded data removed]"
          },
          "metadata": {}
        }
      ],
      "source": [
        "# Graficamos\n",
        "plt.scatter(datosNP[:,0], datosNP[:,1])"
      ]
    },
    {
      "cell_type": "markdown",
      "id": "b165f219-5a08-4b79-a3a0-95451450a506",
      "metadata": {
        "id": "b165f219-5a08-4b79-a3a0-95451450a506"
      },
      "source": [
        "Resolver a partir de aqui"
      ]
    },
    {
      "cell_type": "markdown",
      "id": "1bb1d263-857d-49e9-8f82-cf60f1cba0ad",
      "metadata": {
        "id": "1bb1d263-857d-49e9-8f82-cf60f1cba0ad"
      },
      "source": [
        "**Ejercicios**\n",
        "\n",
        "1. Obtener la matriz A.\n",
        "2. Resolver por mínimos cuadrados utilizando la función de escalonamiento utilizada en el laboratorio de ALC (no utilizar el solve de numpy o scipy, etc.)\n",
        "3. Graficar la nube de puntos y la función encontrada.\n",
        "4. Es posible saber en que punto la pelota toca el suelo para los valores encontrados?"
      ]
    },
    {
      "cell_type": "code",
      "source": [
        "#### LU y calcular inversa\n",
        "\n",
        "def calculaLU(matriz):\n",
        "  # Función que realiza la descomposición LU de una matriz pasada como parámetro\n",
        "  # matriz es una matriz de NxN\n",
        "  # Retorna la factorización LU a través de una lista con dos matrices L y U de NxN.\n",
        "  L = np.eye(matriz.shape[0]) #primero pensamos a L como la Identidad\n",
        "  U = matriz.copy() #en cambio a U, la definimos a priori como una copia de la matriz\n",
        "  m=matriz.shape[0] #cantidad filas\n",
        "  n=matriz.shape[1] #cantidad columnas\n",
        "\n",
        "  if m!=n:\n",
        "    print('Matriz no cuadrada')\n",
        "    return #es condición necesaria que la matriz sea cuadrada para que sea inversible\n",
        "\n",
        "  for j in range(n):\n",
        "      for i in range(j+1, n):\n",
        "          # Construímos la función L y U\n",
        "          L[i,j] = U[i,j] / U[j,j]\n",
        "          U[i,:] = U[i,:] - L[i,j] * U[j,:]\n",
        "\n",
        "  return L, U\n",
        "\n",
        "\n",
        "def resolver_sist_triang_inf (L, w):\n",
        "  #Resolvemos el sistema Ly = w. L y w son parámetros de entrada\n",
        "  #L representa la matriz triangular inferior obtenida luego de haber hecho calculaLU(matriz)\n",
        "  #w representa un vector obtenido de el archivo provisto visitas.txt\n",
        "\n",
        "  y = np.zeros(w.shape)\n",
        "  y[0] = w[0] #como L es triangular inferior, su primer elemento de y equivale al primer elemento de w\n",
        "  for i in range (1,w.shape[0]):\n",
        "    y[i] = w[i] - (L[i, :i]@y[:i]) #averiguamos los siguientes elementos de y_i a partir de w_i y los anteriores y_j (j < i)\n",
        "  return y #retorna el vector y que será usado en el siguiente sistema\n",
        "\n",
        "\n",
        "\n",
        "def resolver_sist_triang_sup (U, y): #resolvemos el sistema Ux = y. U e y son parámetros\n",
        "  x = np.zeros(y.shape)\n",
        "  # como U triangular superior, el último elemento del vector x equivale al último elemento de i sobre el coeficiente U[N-1][N-1].\n",
        "  x[y.shape[0] -1] = y[y.shape[0] -1] / U[U.shape[0]-1, U.shape[0]-1]\n",
        "  # averiguaremos los elementos del vector X de atrás para adelante, es decir, empezamos por el último y terminamos con el primero.\n",
        "  # la lógica del cálculo de X es similar a la del anterior sistema, aunque ahora deberemos tener en cuenta que U[i][i] no es necesariamente 1.\n",
        "  for i in range (y.shape[0]-2, -1,-1): #averiguamos los siguientes elementos de x_i a partir de y_i y los coeficientes de U.\n",
        "    x[i] = (y[i] - (U[i, y.shape[0] - 1:i:-1]@x[y.shape[0]-1:i:-1]))/U[i][i]\n",
        "  return x #retorna el vector x buscado\n",
        "\n",
        "\n",
        "def calcular_inversa (matriz):\n",
        "  #Función utilizada para calcular la inversa una matriz pasada como parámetro\n",
        "\n",
        "  I = np.eye(matriz.shape[0])\n",
        "  L, U = calculaLU(matriz) #agarramos su descomposición LU\n",
        "  inversa = np.zeros(matriz.shape) #la inicializamos con 0\n",
        "  for i in range(matriz.shape[0]):\n",
        "    e = I[:, i] #agarramos en cada iteración un canónico, con los que resolvemos los sistemas\n",
        "    #aprovechamos la descomposición LU\n",
        "    y = resolver_sist_triang_inf(L, e)\n",
        "    x = resolver_sist_triang_sup(U, y)\n",
        "    inversa[:, i] = x #la solución final la definimos como columna de la inversa\n",
        "  return inversa #retorna la inversa de la matriz pasada como parámetro"
      ],
      "metadata": {
        "id": "nOBzGHMDZ7x2"
      },
      "id": "nOBzGHMDZ7x2",
      "execution_count": null,
      "outputs": []
    },
    {
      "cell_type": "code",
      "execution_count": null,
      "id": "57758594-c901-47a7-9f7d-4713cf6a1f43",
      "metadata": {
        "colab": {
          "base_uri": "https://localhost:8080/",
          "height": 482
        },
        "id": "57758594-c901-47a7-9f7d-4713cf6a1f43",
        "outputId": "58722c54-7bec-4d6c-83dd-20abb1de8f05"
      },
      "outputs": [
        {
          "output_type": "stream",
          "name": "stdout",
          "text": [
            "[10.44550189 61.46602244 -4.9496809 ]\n",
            "12.585854216664847\n",
            "1.1368683772161603e-13\n"
          ]
        },
        {
          "output_type": "display_data",
          "data": {
            "text/plain": [
              "<Figure size 640x480 with 1 Axes>"
            ],
            "image/png": "[encoded data removed]"
          },
          "metadata": {}
        }
      ],
      "source": [
        "#1)Obtenemos la matriz A\n",
        "# A posee en su primer columna 1s, en la segunda los valores de t; y en la tercera y ultima los valores de t elevados al cuadrado\n",
        "\n",
        "A = np.ones((datosNP.shape[0], 3))\n",
        "A [:,0] = 1\n",
        "A[:,1] = datosNP[:,0]\n",
        "A[:,2] = datosNP[:,0]**2\n",
        "#print(A)\n",
        "\n",
        "#2) Queremos resolver el sistema A.T A c = A.T y\n",
        "\n",
        "#Definimos a el vector y\n",
        "y = datosNP[:,1]\n",
        "#print(y)\n",
        "\n",
        "\n",
        "lado_derecho = np.dot(A.T, y)\n",
        "#print(lado_derecho)\n",
        "\n",
        "lado_izquierdo = np.dot(A.T, A)\n",
        "#print(lado_izquierdo)\n",
        "\n",
        "\n",
        "#Hacemos la descomposicion LU de la matriz A.T A ; y luego la inverimos.\n",
        "L,U = calculaLU(lado_izquierdo)\n",
        "inversa = calcular_inversa(lado_izquierdo)\n",
        "\n",
        "c = np.dot(inversa, lado_derecho)\n",
        "print(c)\n",
        "\n",
        "\n",
        "#3) Graficamos la función encontrada\n",
        "plt.plot(datosNP[:,0], c[0] + c[1]*datosNP[:,0] + c[2]*datosNP[:,0]**2, c = 'red')\n",
        "plt.scatter(datosNP[:,0], datosNP[:,1])\n",
        "\n",
        "#La función encontrada es f(t) = c[0] + c[1]t + c[2]*t² = 10.44550189 + 61.46602244 * t + -4.9496809 * t²\n",
        "\n",
        "#Para ver en que momento la pelota toca el suelo, deberemos buscar las raíces.\n",
        "#Es importante notar que nos interesa aquella de mayor módulo, pues no estamos evaluando antes de tiempo 0.\n",
        "\n",
        "r1, r2 = np.roots([c[2], c[1], c[0]])\n",
        "toca_suelo = max(abs(r1), abs(r2))\n",
        "print(toca_suelo)\n",
        "\n",
        "print(c[0] + c[1]*toca_suelo + c[2]*(toca_suelo**2))"
      ]
    },
    {
      "cell_type": "markdown",
      "id": "12a99bbe-63e3-40eb-8f6f-6f51df43b2aa",
      "metadata": {
        "id": "12a99bbe-63e3-40eb-8f6f-6f51df43b2aa"
      },
      "source": [
        "### 2. **Mínimos cuadrados para sumas de funciones**"
      ]
    },
    {
      "cell_type": "markdown",
      "id": "5c34cd50-8a5e-4040-929a-40f9139b208d",
      "metadata": {
        "id": "5c34cd50-8a5e-4040-929a-40f9139b208d"
      },
      "source": [
        "Para datos $(t_j, y_j)$, $1 \\le j \\le m$ queremos ajustar una función del tipo\n",
        "$$\n",
        "y = c_1 f_1(t) + \\dots + c_s f_s(t)\n",
        "$$\n",
        "\n",
        "Ejemplo: $y = a + b t + c t^2$.\n",
        "\n",
        "RECORDAR: reemplazando los valores de $t$ e $y$ por los datos en la tabla obtenemos un sistema **lineal** de ecuaciones, donde las incógnitas son los $c_i$:\n",
        "\n",
        "$$\n",
        "\\begin{align}\n",
        "y_1 &= c_1 f_1(t_1) + \\dots + c_s f_s(t_1) \\\\\n",
        "&\\vdots\\\\\n",
        "y_m &= c_1 f_1(t_m) + \\dots + c_s f_s(t_m)\n",
        "\\end{align}\n",
        "$$\n",
        "\n",
        "Cuando tenemos más datos (ecuaciones) que incógnitas, usamos mínimos cuadrados para obtener una solución aproximada.\n",
        "\n"
      ]
    },
    {
      "cell_type": "markdown",
      "id": "5209986c-3aa4-4dbd-b444-9015fbd0b1ff",
      "metadata": {
        "id": "5209986c-3aa4-4dbd-b444-9015fbd0b1ff"
      },
      "source": [
        "#### Problema\n",
        "Ajustar por mínimos cuadrados una función del tipo\n",
        "$$\n",
        "y = c_1 t^2 + c_2 e^t + c_3 t\n",
        "$$\n",
        "a los datos\n",
        "\n",
        "|t|1|2|4|6|8|\n",
        "| --- | --- | --- | --- | --- | --- |\n",
        "|y|6|10|10|8|10|"
      ]
    },
    {
      "cell_type": "code",
      "execution_count": null,
      "id": "bbdad9c8-b66c-4330-a0f5-24dae28f2de8",
      "metadata": {
        "id": "bbdad9c8-b66c-4330-a0f5-24dae28f2de8"
      },
      "outputs": [],
      "source": [
        "# Vectores de datos\n",
        "ti = np.array([1, 2, 4, 6, 8])\n",
        "yi = np.array([6, 10, 10, 8, 10])\n",
        "\n",
        "# a) Definimos las funciones\n",
        "def f1(t):\n",
        "    return(t**2)\n",
        "\n",
        "def f2(t):\n",
        "    return(np.e**t)\n",
        "\n",
        "def f3(t):\n",
        "    return(t)"
      ]
    },
    {
      "cell_type": "markdown",
      "id": "cf0b66ba-e606-48f6-a1f7-d1b09514d13c",
      "metadata": {
        "id": "cf0b66ba-e606-48f6-a1f7-d1b09514d13c"
      },
      "source": [
        "**Ejercicios**\n",
        "1. Construir la matriz A a partir de la ecuación de y\n",
        "2. Econtrar por mínimos cuadrados los coeficientes $$c_1, c_2, c_3$$\n",
        "3. Verificar gráficamente imprimiendo los puntos (t,y) y la función contínua obtenida por los mínimos cuadrados.\n"
      ]
    },
    {
      "cell_type": "code",
      "execution_count": null,
      "id": "59b9415f-0b86-4052-ac93-fe971d23c80b",
      "metadata": {
        "colab": {
          "base_uri": "https://localhost:8080/",
          "height": 552
        },
        "id": "59b9415f-0b86-4052-ac93-fe971d23c80b",
        "outputId": "fd04a631-f736-42ce-a079-c05c7cb0402a"
      },
      "outputs": [
        {
          "output_type": "stream",
          "name": "stdout",
          "text": [
            "[[1.00000000e+00 2.71828183e+00 1.00000000e+00]\n",
            " [4.00000000e+00 7.38905610e+00 2.00000000e+00]\n",
            " [1.60000000e+01 5.45981500e+01 4.00000000e+00]\n",
            " [3.60000000e+01 4.03428793e+02 6.00000000e+00]\n",
            " [6.40000000e+01 2.98095799e+03 8.00000000e+00]]\n",
            "[-9.37735395e-01  6.16733396e-03  6.46005171e+00]\n"
          ]
        },
        {
          "output_type": "execute_result",
          "data": {
            "text/plain": [
              "<matplotlib.collections.PathCollection at 0x7adb269d2450>"
            ]
          },
          "metadata": {},
          "execution_count": 49
        },
        {
          "output_type": "display_data",
          "data": {
            "text/plain": [
              "<Figure size 640x480 with 1 Axes>"
            ],
            "image/png": "[encoded data removed]"
          },
          "metadata": {}
        }
      ],
      "source": [
        "#1) Construimos la matriz A a partir de la ecuación de y\n",
        "A_2 = np.ones((ti.shape[0], 3))\n",
        "A_2[:,0] = f1(ti)\n",
        "A_2[:,1] = f2(ti)\n",
        "A_2[:,2] = f3(ti)\n",
        "\n",
        "print(A_2)\n",
        "#Encontramos los respectivos coeficientes c1,c2 y c3\n",
        "#Queremos resolver el sistema (A.T * A) * c = A.T y\n",
        "\n",
        "#Definimos a el vector yi\n",
        "yi = np.array([6, 10, 10, 8, 10])\n",
        "\n",
        "lado_derecho_2 = np.dot(A_2.T, yi)\n",
        "#print(lado_derecho)\n",
        "\n",
        "lado_izquierdo_2 = np.dot(A_2.T, A_2)\n",
        "#print(lado_izquierdo)\n",
        "\n",
        "\n",
        "#Hacemos la descomposicion LU de la matriz A.T * A ; y luego la inverimos.\n",
        "L_2,U_2 = calculaLU(lado_izquierdo_2)\n",
        "inversa_2 = calcular_inversa(lado_izquierdo_2)\n",
        "\n",
        "c_2 = np.dot(inversa_2, lado_derecho_2)\n",
        "print(c)\n",
        "\n",
        "\n",
        "#Verificamos gráficamente imprimiendo los puntos (t,y) y la función continua obtenida por los mínimos cuadrados\n",
        "plt.plot(ti, c_2[0]*f1(ti) + c_2[1]*f2(ti) + c_2[2]*f3(ti), c = 'red')\n",
        "plt.scatter(ti, yi)\n"
      ]
    }
  ],
  "metadata": {
    "kernelspec": {
      "display_name": "Python 3 (ipykernel)",
      "language": "python",
      "name": "python3"
    },
    "language_info": {
      "codemirror_mode": {
        "name": "ipython",
        "version": 3
      },
      "file_extension": ".py",
      "mimetype": "text/x-python",
      "name": "python",
      "nbconvert_exporter": "python",
      "pygments_lexer": "ipython3",
      "version": "3.9.21"
    },
    "colab": {
      "provenance": []
    }
  },
  "nbformat": 4,
  "nbformat_minor": 5
}