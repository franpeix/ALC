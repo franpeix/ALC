{
 "cells": [
  {
   "cell_type": "code",
   "execution_count": 1,
   "metadata": {
    "id": "HycQrLzTSZHo"
   },
   "outputs": [],
   "source": [
    "import numpy as np\n",
    "import matplotlib.pyplot as plt\n",
    "import pandas as pd\n",
    "import seaborn as sns\n",
    "\n"
   ]
  },
  {
   "cell_type": "markdown",
   "metadata": {
    "id": "tn-WUkKuDG_V"
   },
   "source": [
    "# Cálculo de autovectores: Método de la potencia"
   ]
  },
  {
   "cell_type": "markdown",
   "metadata": {
    "id": "FN-LtDIyDLWz"
   },
   "source": [
    "## Ejercicio 1: Metodo de la potencia\n",
    "\n",
    "Implementar el método de la potencia considerando algún criterio de parada (además del corte por cantidad de iteraciones)"
   ]
  },
  {
   "cell_type": "code",
   "execution_count": 66,
   "metadata": {
    "id": "fIykV5y1k-SM"
   },
   "outputs": [],
   "source": [
    "import numpy as np\n",
    "\n",
    "def power_iteration(A, niter=10_000, eps=1e-6):\n",
    "    \"\"\"\n",
    "    Calcula el autovector al autovalor asociado de valor máximo\n",
    "\n",
    "    Devuelve (a, v) con a autovalor, y v autovector de A\n",
    "\n",
    "    Arguments:\n",
    "    ----------\n",
    "\n",
    "    A: np.array\n",
    "        Matriz de la cual quiero calcular el autovector y autovalor\n",
    "\n",
    "    niter: int (> 0)\n",
    "        Cantidad de iteraciones\n",
    "\n",
    "    eps: Epsilon\n",
    "        Tolerancia utilizada en el criterio de parada\n",
    "    \"\"\"\n",
    "    v = np.random.rand(A.shape[0]) #A es cuadrada, [0] = [1]\n",
    "    for i in range(niter):\n",
    "        v = (A @ v) / np.linalg.norm(A @ v)\n",
    "        if (np.allclose(A @ v, ((v.T @ (A @ v)) / (v.T @ v))*v, rtol = eps)):\n",
    "            break\n",
    "\n",
    "    \n",
    "    a = (v.T @ (A @ v)) / (v.T @ v)\n",
    "    \"\"\"\n",
    "    TODO: Completar el método de la potencia\n",
    "\n",
    "    IMPORTANTE: Agreguen algún criterio de parada!\n",
    "    \"\"\"\n",
    "\n",
    "    return a, v"
   ]
  },
  {
   "cell_type": "markdown",
   "metadata": {
    "id": "qVcHZDFDEduY"
   },
   "source": [
    "Verifiquemos la implementación con ejemplos con autovalores y autovectores conocidos.\n",
    "\n",
    "a) Matriz D diagonal con autovalores y autovectores conocidos\n",
    "\n",
    "$$\n",
    "D = \\begin{pmatrix}\n",
    "d_1    &0     &0      &0      &\\\\\n",
    "0      &d_2   &0      &0      &\\\\\n",
    "\\vdots &\\vdots&\\ddots &\\vdots &\\\\\n",
    "0      &0     &0      &d_n    & \\\\\n",
    "\\end{pmatrix}\n",
    "$$\n",
    "\n",
    "\n",
    "b) Matriz A semejante a una matriz diagonal D con autovalores conocidos.\n",
    "\n",
    "$$\n",
    "A = Q \\begin{pmatrix}\n",
    "d_1    &0     &0      &0      &\\\\\n",
    "0      &d_2   &0      &0      &\\\\\n",
    "\\vdots &\\vdots&\\ddots &\\vdots &\\\\\n",
    "0      &0     &0      &d_n    & \\\\\n",
    "\\end{pmatrix} Q^T\n",
    "$$\n",
    "\n",
    "con $Q = I - 2 v v^T$, $||v||_2=1$ la matriz de reflexión de Householder que sabemos que es ortogonal\n"
   ]
  },
  {
   "cell_type": "code",
   "execution_count": 199,
   "metadata": {},
   "outputs": [
    {
     "name": "stdout",
     "output_type": "stream",
     "text": [
      "5.0 [-0.48900187  0.52983832  0.28455021  0.42832768  0.4644514 ]\n"
     ]
    }
   ],
   "source": [
    "D = np.diag([5.0, 4.0, 3.0, 2.0, 1])\n",
    "#l, v = power_iteration(D)\n",
    "#print(l,v)\n",
    "\n",
    "# Vector v aleatorio y de norma 1\n",
    "v = np.random.rand(D.shape[0])\n",
    "v = v/np.linalg.norm(v)\n",
    "\n",
    "# Matriz de Householder\n",
    "B = np.eye(D.shape[0]) - 2 * np.outer(v, v)\n",
    "\n",
    "# Matriz a diagonalizar, recordar B es simétrica y ortogonal\n",
    "M = B @ (D @ B.T)\n",
    "\n",
    "l, v = power_iteration(M,niter=10000, eps=1e-16)\n",
    "print(l,v)"
   ]
  },
  {
   "cell_type": "code",
   "execution_count": 209,
   "metadata": {
    "id": "M2JD2yJooc6Y"
   },
   "outputs": [
    {
     "name": "stdout",
     "output_type": "stream",
     "text": [
      "[-2.44500936  2.64919161  1.42275105  2.1416384   2.32225698]\n",
      "[-2.44500935  2.6491916   1.42275106  2.14163841  2.32225699]\n"
     ]
    }
   ],
   "source": [
    "# Verificar l es autovalor dominante\n",
    "assert(l == 5)\n",
    "\n",
    "eps=1e-6 #Pongo un error, pues pueden diferir en una cantidad minima los valores\n",
    "\n",
    "# Verificar v es autovector\n",
    "print(M @ v)\n",
    "print(l * v)\n",
    "assert(np.allclose(M @ v, l * v, atol = eps))"
   ]
  },
  {
   "cell_type": "markdown",
   "metadata": {
    "id": "eUX3qBwMoqkN"
   },
   "source": [
    "Otra forma de chequear:\n",
    "\n",
    "Si llamamos  $\\hat v_1$ al autovector dominante estimado y $\\hat \\lambda_1$ al autovalor asociado estimado, entonces chequeemos que cumple con ser un autovector por definición:\n",
    "\n",
    "$$ A \\hat v_1 \\approx \\hat \\lambda_1 v_1$$\n",
    "\n",
    "y por lo tanto\n",
    "\n",
    "$$ || A \\hat v_1 - \\hat \\lambda_1 v_1 || < \\epsilon $$\n",
    "\n",
    "para  $\\epsilon$  suficientemente chico (que dependera de la aplicación y el contexto).\n",
    "Para este caso, probar con $10^{-6}$\n",
    "\n"
   ]
  },
  {
   "cell_type": "code",
   "execution_count": 213,
   "metadata": {
    "id": "zehBONX3qExO"
   },
   "outputs": [],
   "source": [
    "# Completar\n",
    "assert(np.linalg.norm(M@v - l*v) < 1e-6)"
   ]
  },
  {
   "cell_type": "markdown",
   "metadata": {
    "id": "QDUleiC8Yc1v"
   },
   "source": [
    "## Ejercicio 2: Velocidad de convergencia"
   ]
  },
  {
   "cell_type": "markdown",
   "metadata": {
    "id": "bohp51EBoaYh"
   },
   "source": [
    "Mostrar la convergencia de la sucesión de autovalores $\\{\\lambda_{k}\\}_{k \\in \\mathbb{N}}$ al autovalor dominante.\n",
    "\n",
    "Utilizar la matriz M como se definió en el ejercicio anterior con autovalores $[5,4,3,2,1]$"
   ]
  },
  {
   "cell_type": "code",
   "execution_count": 229,
   "metadata": {
    "id": "8wux_SAlop-Z"
   },
   "outputs": [
    {
     "name": "stderr",
     "output_type": "stream",
     "text": [
      "<>:8: SyntaxWarning: invalid escape sequence '\\l'\n",
      "<>:8: SyntaxWarning: invalid escape sequence '\\l'\n",
      "C:\\Users\\franp\\AppData\\Local\\Temp\\ipykernel_12280\\1163481648.py:8: SyntaxWarning: invalid escape sequence '\\l'\n",
      "  plt.ylabel(\"$\\lambda_k$\")\n"
     ]
    },
    {
     "data": {
      "text/plain": [
       "Text(0, 0.5, '$\\\\lambda_k$')"
      ]
     },
     "execution_count": 229,
     "metadata": {},
     "output_type": "execute_result"
    },
    {
     "data": {
      "image/png": "[encoded data removed]",
      "text/plain": [
       "<Figure size 640x480 with 1 Axes>"
      ]
     },
     "metadata": {},
     "output_type": "display_data"
    }
   ],
   "source": [
    "k = 6\n",
    "res = {'k': list(range(1,k+1)), 'autovalor': []}\n",
    "for i in range (k):\n",
    "    res['autovalor'].append(power_iteration(M, i+1)[0])\n",
    "    \n",
    "plt.plot(res['k'], res['autovalor'], marker='o', linestyle='-')\n",
    "plt.xlabel(r\"k (iteraciones)\")\n",
    "plt.ylabel(\"$\\lambda_k$\")"
   ]
  },
  {
   "cell_type": "markdown",
   "metadata": {
    "id": "LycGnNPN4uzd"
   },
   "source": [
    "Repetir el análisis anterior pero para una matriz M con autovalores $[5, 4.9, 3,2,1]$. ¿De qué parece depender la velocidad de convergencia?"
   ]
  },
  {
   "cell_type": "code",
   "execution_count": 231,
   "metadata": {
    "id": "IOoF0nUL48wH"
   },
   "outputs": [
    {
     "name": "stderr",
     "output_type": "stream",
     "text": [
      "<>:26: SyntaxWarning: invalid escape sequence '\\l'\n",
      "<>:26: SyntaxWarning: invalid escape sequence '\\l'\n",
      "C:\\Users\\franp\\AppData\\Local\\Temp\\ipykernel_12280\\1514726114.py:26: SyntaxWarning: invalid escape sequence '\\l'\n",
      "  plt.ylabel(\"$\\lambda_k$\")\n"
     ]
    },
    {
     "data": {
      "text/plain": [
       "Text(0, 0.5, '$\\\\lambda_k$')"
      ]
     },
     "execution_count": 231,
     "metadata": {},
     "output_type": "execute_result"
    },
    {
     "data": {
      "image/png": "[encoded data removed]",
      "text/plain": [
       "<Figure size 640x480 with 1 Axes>"
      ]
     },
     "metadata": {},
     "output_type": "display_data"
    }
   ],
   "source": [
    "# COMPLETAR\n",
    "D_prima = np.diag([5.0, 4.9, 3.0, 2.0, 1])\n",
    "#l, v = power_iteration(D)\n",
    "#print(l,v)\n",
    "\n",
    "# Vector v aleatorio y de norma 1\n",
    "v = np.random.rand(D.shape[0])\n",
    "v = v/np.linalg.norm(v)\n",
    "\n",
    "# Matriz de Householder\n",
    "B = np.eye(D.shape[0]) - 2 * np.outer(v, v)\n",
    "\n",
    "# Matriz a diagonalizar, recordar B es simétrica y ortogonal\n",
    "M_prima = B @ (D @ B.T)\n",
    "l, v = power_iteration(M,niter=10000, eps=1e-16)\n",
    "\n",
    "#-------------------------\n",
    "k = 6\n",
    "res = {'k': list(range(1,k+1)), 'autovalor': []}\n",
    "for i in range (k):\n",
    "    res['autovalor'].append(power_iteration(M_prima, i+1)[0])\n",
    "    \n",
    "plt.plot(res['k'], res['autovalor'], marker='o', linestyle='-')\n",
    "plt.xlabel(r\"k (iteraciones)\")\n",
    "plt.ylabel(\"$\\lambda_k$\")\n",
    "\n",
    "\n",
    "\n",
    "#La velocidad de convergencia depende de la cercania entre los autovalores. Mientras más similares, mayor tiempo/mayor cantidad de iteraciones se requerirán"
   ]
  },
  {
   "cell_type": "markdown",
   "metadata": {
    "id": "lsFuEl3SLLqu"
   },
   "source": [
    "---\n",
    "\n",
    "\n",
    "Definición: Sea ${\\alpha_n}$ una sucesión que converge a $\\alpha$. Sea ${\\beta_n}$ convergente a 0.\n",
    "\n",
    "Decimos que ${\\alpha_n}$ tiene orden de convergencia $O(\\beta_n)$ (es decir, que $\\alpha_n$ converge tan rápido como $\\beta_{n}$) si existe c > 0 tal que:\n",
    "\n",
    "$$|\\alpha_n − \\alpha| ≤ c\\beta_n$$ para todo\n",
    "n suficientemente grande.\n",
    "\n"
   ]
  },
  {
   "cell_type": "markdown",
   "metadata": {
    "id": "n5QQAG42Kjop"
   },
   "source": [
    "Analizar la velocidad de convergencia para la sucesión {$\\lambda_k\\}_{k}$ del autovalor dominante $\\lambda_1 = 5$.\n",
    "\n",
    "Verificar que, en caso de tomar cociente de Rayleigh, se obtiene convergencia cuadrática:\n",
    "\n",
    "$$ \\{\\lambda_k\\}_{k} \\in O((\\frac{\\lambda_2}{\\lambda_1})^{2k})$$\n",
    "\n"
   ]
  },
  {
   "cell_type": "code",
   "execution_count": null,
   "metadata": {
    "id": "g04p_EOSIIYk"
   },
   "outputs": [],
   "source": [
    "# COMPLETAR"
   ]
  },
  {
   "cell_type": "markdown",
   "metadata": {
    "id": "2FGe9l_5PBkW"
   },
   "source": [
    " ## Ejercicio 3: Metodo de la potencia inverso\n",
    "\n",
    "Obtener el autovalor más chico de M (junto a su autovector) utilizando el método de la potencia inverso."
   ]
  },
  {
   "cell_type": "code",
   "execution_count": 261,
   "metadata": {
    "id": "WR976PHWgYc5"
   },
   "outputs": [
    {
     "name": "stdout",
     "output_type": "stream",
     "text": [
      "1.0 [-0.12490106 -0.03030991 -0.12408743 -0.2566508   0.94984931]\n"
     ]
    }
   ],
   "source": [
    "# COMPLETAR\n",
    "D_inversa = np.diag([1/(5.0), 1/(4.0), 1/(3.0), 1/(2.0), 1])\n",
    "M_inversa = B @ (D_inversa @ B.T)\n",
    "\n",
    "l, v = power_iteration(M_inversa,niter=10000, eps=1e-16)\n",
    "print(l,v)"
   ]
  },
  {
   "cell_type": "markdown",
   "metadata": {
    "id": "7zlVQ-fQEw60"
   },
   "source": [
    "## Ejercicio 4: Metodo de la potencia + Deflación\n",
    "\n",
    "Implementar método de la potencia + deflación"
   ]
  },
  {
   "cell_type": "code",
   "execution_count": 311,
   "metadata": {
    "id": "XKOb8uQnEwnd"
   },
   "outputs": [
    {
     "name": "stdout",
     "output_type": "stream",
     "text": [
      "(array([5., 4.]), array([[-0.73006336,  0.42791479],\n",
      "       [ 0.42791089, -0.32165889],\n",
      "       [ 0.35908676,  0.56923312],\n",
      "       [ 0.25110214,  0.39805449],\n",
      "       [ 0.30315699,  0.48057337]]))\n"
     ]
    }
   ],
   "source": [
    "def eigen(A, num=2, niter=10000, eps=1e-6):\n",
    "    \"\"\"\n",
    "    Calculamos num autovalores y autovectores usando método de la potencia+deflación\n",
    "    \"\"\"\n",
    "    A_prima = A.copy()\n",
    "    eigenvalues = []\n",
    "    eigenvectors = np.zeros((A.shape[0], num))\n",
    "    for i in range(num):\n",
    "        l,v = power_iteration(A_prima, niter, eps)\n",
    "        v = v / np.linalg.norm(v)\n",
    "        eigenvectors[:,i] = v\n",
    "        eigenvalues.append(l)\n",
    "        A_prima = A_prima - l * np.outer(v, v)\n",
    "        pass\n",
    "    return np.array(eigenvalues), eigenvectors\n",
    "\n",
    "print(eigen(M))"
   ]
  },
  {
   "cell_type": "markdown",
   "metadata": {
    "id": "qvf7knv-iy_C"
   },
   "source": [
    "Calcular todos los autovalores y autovectores de la matriz M definida inicialmente.\n",
    "\n",
    "Verificar que los errores de las aproximaciones obtenidas\n",
    "\n",
    "$$ || A \\hat v_i - \\hat \\lambda_i v_i || < \\epsilon $$\n",
    "\n",
    "se encuentren dentro de una tolerancia de $10^{-6}$.\n",
    "\n",
    "Verificar que con los autovectores obtenidos, se obtiene una diagonalización de la matriz A."
   ]
  },
  {
   "cell_type": "code",
   "execution_count": 351,
   "metadata": {
    "id": "vy5f4oS6FsN7"
   },
   "outputs": [
    {
     "name": "stdout",
     "output_type": "stream",
     "text": [
      "1.4730302166159309e-07\n",
      "3.257129180025239e-07\n",
      "6.543775240920172e-07\n",
      "8.618461359477637e-07\n",
      "5.217219162331036e-07\n"
     ]
    }
   ],
   "source": [
    "D = np.diag([5.0, 4.0, 3.0, 2.0, 1.0])\n",
    "\n",
    "# Vector v aleatorio y de norma 1\n",
    "v = np.random.rand(D.shape[0])\n",
    "v = v/np.linalg.norm(v)\n",
    "\n",
    "# Matriz de Householder\n",
    "B = np.eye(D.shape[0]) - 2 * np.outer(v, v)\n",
    "\n",
    "# Matriz a diagonalizar, recordar B es simétrica y ortogonal\n",
    "\n",
    "M = B @ (D @ B.T)\n",
    "\n",
    "l, V = eigen(M, 5)\n",
    "\n",
    "for i in range (5):\n",
    "    print(np.linalg.norm(M@V[:,i] - l[i]*V[:,i]))\n",
    "    assert(np.linalg.norm(M@V[:,i] - l[i]*V[:,i]) < 1e-06)\n",
    "# Verificar error dentro de tolerancia\n",
    "#assert(np.linalg.norm(M@V - l*V) < 1e-6)\n",
    "\n",
    "# Verificar que diagonalizacion de A\n",
    "assert np.allclose(np.sort(np.diag(D)), np.sort(l), atol=1e-6)\n"
   ]
  },
  {
   "cell_type": "markdown",
   "metadata": {
    "id": "cG-hHfZBK5fT"
   },
   "source": [
    "## Ejercicio 5: Más Casos de prueba para divertirse un rato"
   ]
  },
  {
   "cell_type": "markdown",
   "metadata": {
    "id": "uT9btW23LuXm"
   },
   "source": [
    "Corroborar que para la siguiente matriz se cumplen todas las hipótesis del método de la potencia + deflación.\n",
    "\n",
    "Verificar con la noción de error del ejercicio anterior, que pueden encontrarse todos sus autovectores y autovalores."
   ]
  },
  {
   "cell_type": "code",
   "execution_count": null,
   "metadata": {
    "id": "I-ExgjhgLt_z"
   },
   "outputs": [],
   "source": [
    "A = np.array([\n",
    "  [ 7,  2,  -3],\n",
    "  [ 2,  2,  -2],\n",
    "  [-3, -2,  -2]\n",
    "])\n"
   ]
  },
  {
   "cell_type": "markdown",
   "metadata": {
    "id": "zDjLbUk3lQGe"
   },
   "source": [
    "Para una matriz A cualquiera (considerar por ejemplo la anterior), estudiar la relación entre los autovectores y autovalores de $AA^T$ y $A^TA$.\n",
    "\n",
    "Obtenerlos mediante el método de la potencia + deflación y verificar que se cumpla dicha relación."
   ]
  },
  {
   "cell_type": "code",
   "execution_count": null,
   "metadata": {
    "id": "SQaV_HyacPuW"
   },
   "outputs": [],
   "source": [
    "TA = A.T @ A\n",
    "AT = A @ A.T\n",
    "wta, VTA, _ = eigen(AT, num=3, niter=20000, eps=1e-24)\n",
    "wat, VAT, _ = eigen(TA, num=3, niter=20000, eps=1e-24)\n",
    "\n",
    "\n",
    "# Verificar relacion entre autovalores y autovectores\n",
    "assert(...)\n",
    "assert(...)"
   ]
  },
  {
   "cell_type": "markdown",
   "metadata": {
    "id": "ljz4Pt_PyC3L"
   },
   "source": [
    "Analizar lo que ocurre en este caso"
   ]
  },
  {
   "cell_type": "code",
   "execution_count": null,
   "metadata": {
    "id": "6R9lxaPfxwy0"
   },
   "outputs": [],
   "source": [
    "A = np.array([\n",
    "  [7, 2, 3],\n",
    "  [0, 2, 0],\n",
    "  [-6, -2, -2]\n",
    "])\n",
    "\n",
    "w, V, _  = eigen(A, num=3, niter=20_000, eps=1e-14)\n",
    "print(\"w\")\n",
    "print(w)\n",
    "print(\"V\")\n",
    "print(V)\n",
    "\n",
    "print(\"-\"*20)\n",
    "for i in range(len(A)):\n",
    "    print(i)\n",
    "    print(np.allclose(A @ V[:, i], w[i] * V[:,i]))\n",
    "\n",
    "print(\"-\"*20)\n",
    "\n",
    "print(\"Usando numpy\")\n",
    "w2, V2 = LA.eigh(A)\n",
    "print(w2)\n",
    "\n",
    "\n",
    "for i in range(len(A)):\n",
    "    print(i)\n",
    "    print(np.allclose(A @ V2[:, i], w2[i] * V2[:,i]))\n",
    "\n"
   ]
  },
  {
   "cell_type": "markdown",
   "metadata": {
    "id": "4cF1rEuPzWEa"
   },
   "source": [
    "<div>\n",
    "<img src=\"https://cdn131.picsart.com/331981814059211.png?to=crop&type=webp&r=1008x1096&q=85\"  width=\"200\">\n",
    "</div>\n"
   ]
  },
  {
   "cell_type": "markdown",
   "metadata": {
    "id": "O3pZ-sDTfFG5"
   },
   "source": [
    "## Otros casos más divertidos"
   ]
  },
  {
   "cell_type": "markdown",
   "metadata": {
    "id": "MbdnF7xxBQBo"
   },
   "source": [
    "¿Qué pasa si tenemos r autovalores iguales?"
   ]
  },
  {
   "cell_type": "code",
   "execution_count": null,
   "metadata": {
    "id": "B-wzUKjyTz_a"
   },
   "outputs": [],
   "source": [
    "D = np.diag(np.arange(10))\n",
    "D[1,1] = 10\n",
    "D[2,2] = 10\n",
    "print(D)\n",
    "\n",
    "# Matriz de Householder\n",
    "B = ...\n",
    "\n",
    "# Matriz a diagonalizar\n",
    "M = ...\n",
    "\n",
    "# Chequear utilizando la noción de error del ejercicio 4 para todo autovector y autovalor\n",
    "\n"
   ]
  },
  {
   "cell_type": "markdown",
   "metadata": {
    "id": "z7wNgXeK4Hax"
   },
   "source": [
    "Opcionales:\n",
    "\n",
    "Asumiendo que el autovalor dominante tiene multiplicidad r, probar que el método converge a una combinación lineal del autoespacio dominante.\n",
    "\n",
    "---\n"
   ]
  }
 ],
 "metadata": {
  "colab": {
   "provenance": []
  },
  "kernelspec": {
   "display_name": "Python [conda env:base] *",
   "language": "python",
   "name": "conda-base-py"
  },
  "language_info": {
   "codemirror_mode": {
    "name": "ipython",
    "version": 3
   },
   "file_extension": ".py",
   "mimetype": "text/x-python",
   "name": "python",
   "nbconvert_exporter": "python",
   "pygments_lexer": "ipython3",
   "version": "3.12.7"
  }
 },
 "nbformat": 4,
 "nbformat_minor": 4
}
